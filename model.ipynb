{
 "cells": [
  {
   "cell_type": "markdown",
   "id": "533be760",
   "metadata": {},
   "source": [
    "Project 3 Model"
   ]
  },
  {
   "cell_type": "code",
   "execution_count": null,
   "id": "a6f67c92",
   "metadata": {},
   "outputs": [],
   "source": []
  }
 ],
 "metadata": {
  "kernelspec": {
   "display_name": "Python 3",
   "language": "python",
   "name": "python3"
  },
  "language_info": {
   "name": "python",
   "version": "3.12.9"
  }
 },
 "nbformat": 4,
 "nbformat_minor": 5
}
